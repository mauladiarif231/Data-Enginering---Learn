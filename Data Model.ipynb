{
 "cells": [
  {
   "cell_type": "markdown",
   "id": "aa17273f",
   "metadata": {},
   "source": [
    "# Install library 📓"
   ]
  },
  {
   "cell_type": "code",
   "execution_count": 1,
   "id": "06732579",
   "metadata": {},
   "outputs": [
    {
     "name": "stdout",
     "output_type": "stream",
     "text": [
      "Requirement already satisfied: psycopg2 in c:\\users\\metranet\\appdata\\local\\programs\\python\\python311\\lib\\site-packages (2.9.5)\n"
     ]
    }
   ],
   "source": [
    "!pip install psycopg2 "
   ]
  },
  {
   "cell_type": "markdown",
   "id": "0f390113",
   "metadata": {},
   "source": [
    "## Import Library 📓"
   ]
  },
  {
   "cell_type": "code",
   "execution_count": 3,
   "id": "6345ad62",
   "metadata": {},
   "outputs": [],
   "source": [
    "import psycopg2"
   ]
  },
  {
   "cell_type": "markdown",
   "id": "857d5011",
   "metadata": {},
   "source": [
    "# Create connection to database"
   ]
  },
  {
   "cell_type": "code",
   "execution_count": 8,
   "id": "c52a65cb",
   "metadata": {},
   "outputs": [],
   "source": [
    "try:\n",
    "    conn = psycopg2.connect(\"host=127.0.0.1 dbname=postgres user=postgres password=mzxgmly231\")\n",
    "except psycopg2.Error as e:\n",
    "    print(\"Error: Could note make connection to the postgres database\")\n",
    "    print(e)"
   ]
  },
  {
   "cell_type": "markdown",
   "id": "d5a69a8a",
   "metadata": {},
   "source": [
    "# Use the connection to get a cursor that can be used to execute"
   ]
  },
  {
   "cell_type": "code",
   "execution_count": 9,
   "id": "a5ab5f5e",
   "metadata": {},
   "outputs": [],
   "source": [
    "try:\n",
    "    cur = conn.cursor()\n",
    "except psycopg2.Error as e:\n",
    "    print(\"Error: Could not get curser to the database\")\n",
    "    print(e)"
   ]
  },
  {
   "cell_type": "markdown",
   "id": "c5b3a52b",
   "metadata": {},
   "source": [
    "# Set automatic commit"
   ]
  },
  {
   "cell_type": "code",
   "execution_count": 10,
   "id": "9b7875a2",
   "metadata": {},
   "outputs": [],
   "source": [
    "conn.set_session(autocommit=True)"
   ]
  },
  {
   "cell_type": "markdown",
   "id": "d06a156b",
   "metadata": {},
   "source": [
    "# Create database"
   ]
  },
  {
   "cell_type": "code",
   "execution_count": 11,
   "id": "01c421c7",
   "metadata": {},
   "outputs": [],
   "source": [
    "try:\n",
    "    cur.execute(\"create database firstdb\")\n",
    "except psycopg2.Error as e:\n",
    "    print(e)"
   ]
  },
  {
   "cell_type": "markdown",
   "id": "efc233a8",
   "metadata": {},
   "source": [
    "# Add the database name in the connect statement, Let's close our connection to the default database, reconnect to the udacity database, and a new cursor"
   ]
  },
  {
   "cell_type": "code",
   "execution_count": 12,
   "id": "2369579a",
   "metadata": {},
   "outputs": [],
   "source": [
    "try:\n",
    "    conn.close()\n",
    "except psycopg2.Error as e:\n",
    "    print(e)\n",
    "    \n",
    "try:\n",
    "    conn = psycopg2.connect(\"host=127.0.0.1 dbname=firstdb user=postgres password=mzxgmly231\")\n",
    "except psycopg2.Error as e:\n",
    "    print(\"Error: Could not make connection to the Postgres database\")\n",
    "    print(e)\n",
    "\n",
    "try:\n",
    "    cur = conn.cursor()\n",
    "except psycopg2.Error as e:\n",
    "    print(\"Error: Could not get curser to the Database\")\n",
    "    print(e)\n",
    "    \n",
    "conn.set_session(autocommit=True)"
   ]
  },
  {
   "cell_type": "markdown",
   "id": "2ac24c92",
   "metadata": {},
   "source": [
    "# Create Table for students which includes below columns "
   ]
  },
  {
   "cell_type": "code",
   "execution_count": 16,
   "id": "277de4d0",
   "metadata": {},
   "outputs": [],
   "source": [
    "try:\n",
    "    cur.execute(\"CREATE TABLE IF NOT EXISTS students (student_id int, name varchar, age int,\\\n",
    "            gender varchar, subject varchar, marks int);\")\n",
    "except psycopg2.Error as e:\n",
    "    print(\"Error: Issue creating table\")\n",
    "    print(e)"
   ]
  },
  {
   "cell_type": "markdown",
   "id": "0e47621c",
   "metadata": {},
   "source": [
    "# Insert the following 2 rows in the table"
   ]
  },
  {
   "cell_type": "code",
   "execution_count": 19,
   "id": "bea45cda",
   "metadata": {},
   "outputs": [],
   "source": [
    "try:\n",
    "    cur.execute(\"INSERT INTO students (student_id, name, age, gender, subject, marks)\\\n",
    "                VALUES (%s, %s, %s, %s, %s, %s)\", \\\n",
    "                (1, \"Maul\", 22, \"Male\", \"Python\", 85))\n",
    "except psycopg2.Error as e:\n",
    "    print(\"Error: Inserting Rows\")\n",
    "    print(e)\n",
    "    \n",
    "try:\n",
    "    cur.execute(\"INSERT INTO students (student_id, name, age, gender, subject, marks)\\\n",
    "                VALUES (%s, %s, %s, %s, %s, %s)\", \\\n",
    "               (2, \"Fitri\", 22, \"Female\", \"Python\", 86))\n",
    "except psycopg2.Error as e:\n",
    "    print(\"Error: Inserting Rows\")\n",
    "    print(e)"
   ]
  },
  {
   "cell_type": "markdown",
   "id": "f7a8ac17",
   "metadata": {},
   "source": [
    "# Validate data was inserted"
   ]
  },
  {
   "cell_type": "code",
   "execution_count": 21,
   "id": "5d27a742",
   "metadata": {},
   "outputs": [
    {
     "name": "stdout",
     "output_type": "stream",
     "text": [
      "(1, 'Maul', 22, 'Male', 'Python', 85)\n",
      "(2, 'Fitri', 22, 'Female', 'Python', 86)\n"
     ]
    }
   ],
   "source": [
    "try:\n",
    "    cur.execute(\"select * from students;\")\n",
    "except psycopg2.Error as e:\n",
    "    print(\"Error: select *\")\n",
    "    print(e)\n",
    "    \n",
    "row = cur.fetchone()\n",
    "while row:\n",
    "    print(row)\n",
    "    row = cur.fetchone()"
   ]
  },
  {
   "cell_type": "markdown",
   "id": "3aa3df01",
   "metadata": {},
   "source": [
    "# Close cursor and connection"
   ]
  },
  {
   "cell_type": "code",
   "execution_count": 22,
   "id": "dd2c41be",
   "metadata": {},
   "outputs": [],
   "source": [
    "cur.close()\n",
    "conn.close()"
   ]
  }
 ],
 "metadata": {
  "kernelspec": {
   "display_name": "Python 3 (ipykernel)",
   "language": "python",
   "name": "python3"
  },
  "language_info": {
   "codemirror_mode": {
    "name": "ipython",
    "version": 3
   },
   "file_extension": ".py",
   "mimetype": "text/x-python",
   "name": "python",
   "nbconvert_exporter": "python",
   "pygments_lexer": "ipython3",
   "version": "3.11.2"
  }
 },
 "nbformat": 4,
 "nbformat_minor": 5
}
